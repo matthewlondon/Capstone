{
 "cells": [
  {
   "cell_type": "markdown",
   "metadata": {},
   "source": [
    "## Clean National Zip-Code Data:\n",
    "-read zip csv\n",
    "-filter by county and state to include only Jefferson County, KY\n",
    "-drop all columns except zip"
   ]
  },
  {
   "cell_type": "code",
   "execution_count": null,
   "metadata": {},
   "outputs": [],
   "source": [
    "import pandas as pd\n",
    "import numpy as np\n",
    "\n",
    "# Load the national ZIP code dataset\n",
    "zip_to_county_df = pd.read_csv('../data/zip_code_database.csv')\n",
    "\n",
    "# Filter to include only Jefferson County, KY codes\n",
    "jefferson_zip_df = zip_to_county_df[(zip_to_county_df['county'] == 'Jefferson County') & (zip_to_county_df['state'] == 'KY')]\n",
    "\n",
    "# Keep only relevant columns\n",
    "jefferson_zip_df = jefferson_zip_df[['zip']]\n",
    "jefferson_zip_df.reset_index(drop=True, inplace=True)\n",
    "jefferson_zip_df.to_csv('../data/jefferson_zip_df.csv', index=False)\n",
    "jefferson_zip_df\n"
   ]
  },
  {
   "cell_type": "markdown",
   "metadata": {},
   "source": [
    "## Clean Metro Crime Data:\n",
    "-read crime csv\n",
    "-standardize 'zip_code' by removing spaces, hyphen extensions, and invalid values\n",
    "-cast 'zip_code' as int and change name to 'zip'"
   ]
  },
  {
   "cell_type": "code",
   "execution_count": null,
   "metadata": {},
   "outputs": [],
   "source": [
    "import pandas as pd\n",
    "import numpy as np\n",
    "\n",
    "# Load crime data\n",
    "crime_df = pd.read_csv('../data/crime_data/2024.csv')\n",
    "\n",
    "# Clean ZIP codes, (Remove spaces, hyphen extensions, invalid values, keep only valid(5-digit) codes)\n",
    "crime_df['zip_code'] = (\n",
    "    crime_df['zip_code']\n",
    "    .str.strip()\n",
    "    .str.split('-').str[0]\n",
    "    .replace(['99999', 'nan', None], np.nan)\n",
    ")\n",
    "crime_df = crime_df[crime_df['zip_code'].str.len() == 5]\n",
    "\n",
    "# Convert to integer\n",
    "crime_df['zip_code'] = pd.to_numeric(crime_df['zip_code'], errors='coerce').astype('Int64')\n",
    "crime_df.rename(columns={'zip_code': 'zip'}, inplace=True)\n",
    "\n",
    "# Check the result\n",
    "crime_df\n"
   ]
  },
  {
   "cell_type": "markdown",
   "metadata": {},
   "source": [
    "## Join Metro Crime Data and Zip Code Data to filter Non-Jefferson County entries"
   ]
  },
  {
   "cell_type": "code",
   "execution_count": null,
   "metadata": {},
   "outputs": [],
   "source": [
    "# Perform a left join on 'zip'\n",
    "jefferson_crime_df = jefferson_zip_df.merge(crime_df, how='left', on='zip')\n",
    "\n",
    "# Check the result\n",
    "jefferson_crime_df"
   ]
  },
  {
   "cell_type": "markdown",
   "metadata": {},
   "source": [
    "## Clean Metro Crime Data: Pt.2\n",
    "-cast 'date_reported' as datetime\n",
    "-cast 'date_occurred' as datetime\n",
    "-filter for ONLY auto theft incidents\n",
    "-replace '14 AUTO THEFT' data value with 'Auto Theft' for readability \n",
    "-extract only relevant data in 'offense_code_name' with regex, retaining only $xx <> $xx\n",
    "-fill unknown theft values\n",
    "-drop superfluous columns('block_address', 'city', 'badge_id', 'ObjectId', 'nibrs_code', 'nibrs_group_name')"
   ]
  },
  {
   "cell_type": "code",
   "execution_count": null,
   "metadata": {},
   "outputs": [],
   "source": [
    "# Cast dates as datetime\n",
    "jefferson_crime_df['date_reported'] = pd.to_datetime(jefferson_crime_df['date_reported'])\n",
    "jefferson_crime_df['date_occurred'] = pd.to_datetime(jefferson_crime_df['date_occurred'])\n",
    "\n",
    "# Filter for auto theft incidents\n",
    "auto_theft_df = jefferson_crime_df[jefferson_crime_df['offense_classification'] == '14 AUTO THEFT'].copy()\n",
    "\n",
    "# Replace value '14 AUTO THEFT' for readability\n",
    "auto_theft_df['offense_classification'] = auto_theft_df['offense_classification'].str.replace(\"14 AUTO THEFT\", \"Auto Theft\", case=False)\n",
    "\n",
    "# Extract monetary ranges\n",
    "auto_theft_df['offense_code_name'] = auto_theft_df['offense_code_name'].str.extract(\n",
    "    r'(\\$[\\d,]+(?: < \\$[\\d,]+|,000,000(?: OR MORE)?))'\n",
    ")\n",
    "\n",
    "# Fill missing values with 'Unknown Value'\n",
    "auto_theft_df['offense_code_name'] = auto_theft_df['offense_code_name'].fillna('UNKNOWN VALUE')\n",
    "\n",
    "# Rename 'offense_code_name'\n",
    "auto_theft_df.rename(columns={'offense_code_name': 'value_range'}, inplace=True)\n",
    "\n",
    "# Drop superfluous columns\n",
    "columns_to_drop = ['block_address', 'city', 'badge_id', 'ObjectId', 'nibrs_code', 'nibrs_group_name']\n",
    "\n",
    "cleaned_auto_theft_df = auto_theft_df.drop(columns=columns_to_drop)\n",
    "\n",
    "#Export cleaned data to csv\n",
    "cleaned_auto_theft_df.to_csv('../data/metro_auto_thefts.csv', index=False)\n",
    "\n",
    "# Display the cleaned DataFrame for testing\n",
    "cleaned_auto_theft_df"
   ]
  }
 ],
 "metadata": {
  "kernelspec": {
   "display_name": "venv",
   "language": "python",
   "name": "python3"
  },
  "language_info": {
   "codemirror_mode": {
    "name": "ipython",
    "version": 3
   },
   "file_extension": ".py",
   "mimetype": "text/x-python",
   "name": "python",
   "nbconvert_exporter": "python",
   "pygments_lexer": "ipython3",
   "version": "3.12.0"
  }
 },
 "nbformat": 4,
 "nbformat_minor": 2
}
